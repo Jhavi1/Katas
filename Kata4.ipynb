{
 "cells": [
  {
   "cell_type": "code",
   "execution_count": 7,
   "metadata": {},
   "outputs": [
    {
     "data": {
      "text/plain": [
       "['Interesting facts about the Moon',\n",
       " \" The Moon is Earth's only satellite\",\n",
       " ' There are several interesting facts about the Moon and how it affects life here on Earth',\n",
       " ' \\nOn average, the Moon moves 4cm away from the Earth every year',\n",
       " ' This yearly drift is not significant enough to cause immediate effects on Earth',\n",
       " ' The highest daylight temperature of the Moon is 127 C',\n",
       " '']"
      ]
     },
     "execution_count": 7,
     "metadata": {},
     "output_type": "execute_result"
    }
   ],
   "source": [
    "#Ejercicio 1.1\n",
    "\n",
    "text = \"\"\"Interesting facts about the Moon. The Moon is Earth's only satellite. There are several interesting facts about the Moon and how it affects life here on Earth. \n",
    "On average, the Moon moves 4cm away from the Earth every year. This yearly drift is not significant enough to cause immediate effects on Earth. The highest daylight temperature of the Moon is 127 C.\"\"\"\n",
    "\n",
    "div_Txt = text.split('.')\n",
    "div_Txt"
   ]
  },
  {
   "cell_type": "code",
   "execution_count": 4,
   "metadata": {},
   "outputs": [
    {
     "name": "stdout",
     "output_type": "stream",
     "text": [
      "Interesting facts about the Moon\n",
      " The Moon is Earth's only satellite\n",
      " There are several interesting facts about the Moon and how it affects life here on Earth\n",
      " \n",
      "On average, the Moon moves 4cm away from the Earth every year\n",
      " This yearly drift is not significant enough to cause immediate effects on Earth\n",
      " The highest daylight temperature of the Moon is 127 C\n",
      "Interesting facts about the Moon\n",
      " The Moon is Earth's only satellite\n",
      " There are several interesting facts about the Moon and how it affects life here on Earth\n",
      " \n",
      "On average, the Moon moves 4cm away from the Earth every year\n",
      " This yearly drift is not significant enough to cause immediate effects on Earth\n",
      " The highest daylight temperature of the Moon is 127 Celsius\n"
     ]
    }
   ],
   "source": [
    "#Ejercicio 1.2\n",
    "\n",
    "text = \"\"\"Interesting facts about the Moon. The Moon is Earth's only satellite. There are several interesting facts about the Moon and how it affects life here on Earth. \n",
    "On average, the Moon moves 4cm away from the Earth every year. This yearly drift is not significant enough to cause immediate effects on Earth. The highest daylight temperature of the Moon is 127 C.\"\"\"\n",
    "\n",
    "div_Txt = text.split('.')\n",
    "div_Txt\n",
    "\n",
    "pal_Clv = [\"average\", \"temperature\", \"distance\"]\n",
    "\n",
    "for sentence in div_Txt:\n",
    "    for pal_Clv in sentence:\n",
    "        if pal_Clv in sentence:\n",
    "            print(sentence)\n",
    "            break\n",
    "\n",
    "\n",
    "for sentence in div_Txt:\n",
    "    for pal_Clv in pal_Clv:\n",
    "        if pal_Clv in sentence:\n",
    "            print(sentence.replace(' C', ' Celsius'))\n",
    "            break"
   ]
  },
  {
   "cell_type": "code",
   "execution_count": 8,
   "metadata": {},
   "outputs": [
    {
     "name": "stdout",
     "output_type": "stream",
     "text": [
      "--------------------------------------------------------------------------------\n",
      "Nombre del planeta: Marte\n",
      "Gravedad en Gaminedes:14.3 m/s2\n",
      "\n",
      "Datos de gravedad sobre: Gaminedes\n",
      "\n",
      "Nombre del planeta: Marte\n",
      "Graedad en Gaminedes: 0.0143 m/s2\n"
     ]
    }
   ],
   "source": [
    "#Ejercicio 2.1\n",
    "\n",
    "planeta = 'Marte'\n",
    "gravedad = 0.0143\n",
    "nombre = 'Gaminedes'\n",
    "\n",
    "title = f'Datos de gravedad sobre {nombre}'\n",
    "\n",
    "hechos = f\"\"\"{'-'*80}\n",
    "Nombre del planeta: {planeta}\n",
    "Gravedad en {nombre}:{gravedad * 1000} m/s2\"\"\"\n",
    "\n",
    "template = f\"\"\"{title.title()}\n",
    "{hechos}\"\"\"\n",
    "\n",
    "print (hechos)\n",
    "\n"
   ]
  },
  {
   "cell_type": "code",
   "execution_count": 12,
   "metadata": {},
   "outputs": [
    {
     "name": "stdout",
     "output_type": "stream",
     "text": [
      "\n",
      "Datos de gravedad sobre: Gaminedes\n",
      "\n",
      "Nombre del planeta: Marte\n",
      "Graedad en Gaminedes: 0.0143 m/s2\n",
      "\n",
      "Datos de gravedad sobre: Gaminedes\n",
      "\n",
      "Nombre del planeta: Marte\n",
      "Graedad en Gaminedes: 143.0 m/s2\n"
     ]
    }
   ],
   "source": [
    "#Ejercicio 2.2\n",
    "\n",
    "planeta = 'Marte'\n",
    "gravedad = 0.0143\n",
    "nombre = 'Gaminedes'\n",
    "\n",
    "new_template = \"\"\"\n",
    "Datos de gravedad sobre: {nombre}\n",
    "\n",
    "Nombre del planeta: {planeta}\n",
    "Graedad en {nombre}: {gravedad} m/s2\"\"\"\n",
    "\n",
    "print (new_template.format(nombre=nombre, planeta=planeta, gravedad=gravedad))\n",
    "\n",
    "print (new_template.format(nombre=nombre, planeta=planeta, gravedad=gravedad*10000))\n"
   ]
  }
 ],
 "metadata": {
  "interpreter": {
   "hash": "021d2af90a5acc62643c1b61bdeb7c2e275a26968c16e4f87e6bfe650b628050"
  },
  "kernelspec": {
   "display_name": "Python 3.9.2 ('env': venv)",
   "language": "python",
   "name": "python3"
  },
  "language_info": {
   "codemirror_mode": {
    "name": "ipython",
    "version": 3
   },
   "file_extension": ".py",
   "mimetype": "text/x-python",
   "name": "python",
   "nbconvert_exporter": "python",
   "pygments_lexer": "ipython3",
   "version": "3.9.2"
  },
  "orig_nbformat": 4
 },
 "nbformat": 4,
 "nbformat_minor": 2
}
