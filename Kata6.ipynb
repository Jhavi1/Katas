{
 "cells": [
  {
   "cell_type": "code",
   "execution_count": 6,
   "metadata": {},
   "outputs": [
    {
     "data": {
      "text/plain": [
       "['Mercurio',\n",
       " 'Venus',\n",
       " 'Tierra',\n",
       " 'Marte',\n",
       " 'Jupiter',\n",
       " 'Saturno',\n",
       " 'Urano',\n",
       " 'Neptuno']"
      ]
     },
     "execution_count": 6,
     "metadata": {},
     "output_type": "execute_result"
    }
   ],
   "source": [
    "#Ejercicio 1.1\n",
    "\n",
    "planets = ['Mercurio', 'Venus', 'Tierra', 'Marte', 'Jupiter', 'Saturno', 'Urano', 'Neptuno']\n",
    "\n",
    "planets"
   ]
  },
  {
   "cell_type": "code",
   "execution_count": 7,
   "metadata": {},
   "outputs": [
    {
     "data": {
      "text/plain": [
       "'Pluton'"
      ]
     },
     "execution_count": 7,
     "metadata": {},
     "output_type": "execute_result"
    }
   ],
   "source": [
    "#Ejercicio 1.2\n",
    "\n",
    "planets = ['Mercurio', 'Venus', 'Tierra', 'Marte', 'Jupiter', 'Saturno', 'Urano', 'Neptuno']\n",
    "planets.append('Pluton')\n",
    "planets[-1]"
   ]
  },
  {
   "cell_type": "code",
   "execution_count": 15,
   "metadata": {},
   "outputs": [
    {
     "name": "stdout",
     "output_type": "stream",
     "text": [
      "Jupiter ocupa el lugar 5 del sistema solar\n",
      "['Mercurio', 'Venus', 'Tierra', 'Marte'] son planetas mas cercanos al sol que Jupiter\n",
      "['Saturno', 'Urano', 'Neptuno'] son planetas mas alejados del sol que Jupiter\n"
     ]
    }
   ],
   "source": [
    "#Ejercicio 2\n",
    "\n",
    "planets = ['Mercurio', 'Venus', 'Tierra', 'Marte', 'Jupiter', 'Saturno', 'Urano', 'Neptuno']\n",
    "nom_Pla = input('Ingresa el nombre de un planeta:   ')  \n",
    "\n",
    "nom_Pla_index = planets.index(nom_Pla)\n",
    "print(nom_Pla, 'ocupa el lugar', nom_Pla_index + 1, 'del sistema solar')\n",
    "\n",
    "print(planets[0:nom_Pla_index], 'son planetas mas cercanos al sol que', nom_Pla)\n",
    "\n",
    "print(planets[nom_Pla_index + 1:], 'son planetas mas alejados del sol que', nom_Pla)\n"
   ]
  }
 ],
 "metadata": {
  "interpreter": {
   "hash": "021d2af90a5acc62643c1b61bdeb7c2e275a26968c16e4f87e6bfe650b628050"
  },
  "kernelspec": {
   "display_name": "Python 3.9.2 ('env': venv)",
   "language": "python",
   "name": "python3"
  },
  "language_info": {
   "codemirror_mode": {
    "name": "ipython",
    "version": 3
   },
   "file_extension": ".py",
   "mimetype": "text/x-python",
   "name": "python",
   "nbconvert_exporter": "python",
   "pygments_lexer": "ipython3",
   "version": "3.9.2"
  },
  "orig_nbformat": 4
 },
 "nbformat": 4,
 "nbformat_minor": 2
}
