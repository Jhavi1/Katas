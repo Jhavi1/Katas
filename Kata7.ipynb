{
 "cells": [
  {
   "cell_type": "code",
   "execution_count": 16,
   "metadata": {},
   "outputs": [
    {
     "data": {
      "text/plain": [
       "['Jupiter', 'Saturno', 'Marte', 'Tierra', 'Javilandia']"
      ]
     },
     "execution_count": 16,
     "metadata": {},
     "output_type": "execute_result"
    }
   ],
   "source": [
    "#Ejercicio 1\n",
    "\n",
    "planets = []\n",
    "new_planet = input('Por favor, escribe el nombre del planeta: ')\n",
    "\n",
    "while new_planet.lower() != 'done':\n",
    "    planets.append(new_planet)\n",
    "    new_planet = input('Por favor, escribe el nombre del planeta: ')\n",
    "\n",
    "planets"
   ]
  },
  {
   "cell_type": "code",
   "execution_count": 20,
   "metadata": {},
   "outputs": [
    {
     "name": "stdout",
     "output_type": "stream",
     "text": [
      "Venus\n",
      "Urano\n",
      "Pluton\n",
      "innovaccionlandia\n"
     ]
    }
   ],
   "source": [
    "#Ejercicio 2\n",
    "\n",
    "planets = []\n",
    "new_planet = input('Por favor, escribe el nombre del planeta: ')\n",
    "\n",
    "while new_planet.lower() != 'done':\n",
    "    planets.append(new_planet)\n",
    "    new_planet = input('Por favor, escribe el nombre del planeta: ')\n",
    "\n",
    "for nam_Pla in planets:\n",
    "    print(nam_Pla)"
   ]
  }
 ],
 "metadata": {
  "interpreter": {
   "hash": "021d2af90a5acc62643c1b61bdeb7c2e275a26968c16e4f87e6bfe650b628050"
  },
  "kernelspec": {
   "display_name": "Python 3.9.2 ('env': venv)",
   "language": "python",
   "name": "python3"
  },
  "language_info": {
   "codemirror_mode": {
    "name": "ipython",
    "version": 3
   },
   "file_extension": ".py",
   "mimetype": "text/x-python",
   "name": "python",
   "nbconvert_exporter": "python",
   "pygments_lexer": "ipython3",
   "version": "3.9.2"
  },
  "orig_nbformat": 4
 },
 "nbformat": 4,
 "nbformat_minor": 2
}
