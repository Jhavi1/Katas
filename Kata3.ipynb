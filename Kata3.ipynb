{
 "cells": [
  {
   "cell_type": "code",
   "execution_count": 5,
   "metadata": {},
   "outputs": [
    {
     "name": "stdout",
     "output_type": "stream",
     "text": [
      " Momento de alarmarse :) \n",
      "Tú relax\n"
     ]
    }
   ],
   "source": [
    "#Ejercicio 1\n",
    "\n",
    "#Si Moriremos\n",
    "vel = 49\n",
    "if vel > 25:\n",
    "    print(' Momento de alarmarse :) ')\n",
    "\n",
    "else:\n",
    "    print('Tú relax')\n",
    "\n",
    "#No, hoy no moriremos\n",
    "vel2 = 11\n",
    "if vel2 > 25:\n",
    "    print(' Momento de alarmarse :) ')\n",
    "\n",
    "else:\n",
    "    print('Tú relax')"
   ]
  },
  {
   "cell_type": "code",
   "execution_count": 4,
   "metadata": {},
   "outputs": [
    {
     "name": "stdout",
     "output_type": "stream",
     "text": [
      "Hoy no criatura\n",
      "¡Atento!, podras ver una luz\n"
     ]
    }
   ],
   "source": [
    "#Ejercicio 2\n",
    "\n",
    "#Dice que hoy no :(\n",
    "vel_ast = 19\n",
    "if vel_ast >= 20:\n",
    "    print('¡Atento!, podras ver una luz')\n",
    "\n",
    "else:\n",
    "    print('Hoy no criatura')\n",
    "\n",
    "\n",
    "#Aqui viene....\n",
    "vel_ast1 = 20\n",
    "if vel_ast1 >= 20:\n",
    "    print('¡Atento!, podras ver una luz')\n",
    "\n",
    "else:\n",
    "    print('Hoy no criatura')"
   ]
  },
  {
   "cell_type": "code",
   "execution_count": 59,
   "metadata": {},
   "outputs": [
    {
     "name": "stdout",
     "output_type": "stream",
     "text": [
      " Hoy No Criatura\n"
     ]
    }
   ],
   "source": [
    "#Ejercicio 3\n",
    "\n",
    "#Advertencia de catastrofe...\n",
    "vel_ast = 9\n",
    "tam_ast = 2\n",
    "\n",
    "if tam_ast >= 26 and vel_ast >= 26:\n",
    "    print ('Causara un caos si se impactará contra la tierra :(. Aunque, segun las condiciones, tambien podras ver una luz :)')\n",
    "elif tam_ast >= 20 and vel_ast >= 26:\n",
    "        print ('Puede que sea peligroso aunque podras ver una luz')\n",
    "elif tam_ast < 26 and vel_ast >= 20:\n",
    "        print ('¡Atento!, podras ver una luz')\n",
    "elif tam_ast >= 26 and vel_ast < 20:\n",
    "        print ('Es grande, hay que estar atentos. Por su velocidad no se podra ver luz alguna')\n",
    "else:\n",
    "    print (' Hoy No Criatura')\n",
    "\n"
   ]
  }
 ],
 "metadata": {
  "interpreter": {
   "hash": "021d2af90a5acc62643c1b61bdeb7c2e275a26968c16e4f87e6bfe650b628050"
  },
  "kernelspec": {
   "display_name": "Python 3.9.2 ('env': venv)",
   "language": "python",
   "name": "python3"
  },
  "language_info": {
   "codemirror_mode": {
    "name": "ipython",
    "version": 3
   },
   "file_extension": ".py",
   "mimetype": "text/x-python",
   "name": "python",
   "nbconvert_exporter": "python",
   "pygments_lexer": "ipython3",
   "version": "3.9.2"
  },
  "orig_nbformat": 4
 },
 "nbformat": 4,
 "nbformat_minor": 2
}
