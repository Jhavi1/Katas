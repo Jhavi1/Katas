{
 "cells": [
  {
   "cell_type": "code",
   "execution_count": 3,
   "metadata": {},
   "outputs": [
    {
     "name": "stdout",
     "output_type": "stream",
     "text": [
      "El reporte es el siguiente:\n",
      "\n",
      "\tCombustible promedio: 56%\n",
      "\tPrimer tanque: 25%\n",
      "\tSegundo tanque: 63%\n",
      "\tTercer tanque: 81%\n"
     ]
    }
   ],
   "source": [
    "#Ejercicio 1.1\n",
    "def reporte(tanq1, tanq2, tanq3):\n",
    "\n",
    "\tprom = round( (tanq1 + tanq2 + tanq3) / 3)\n",
    "\n",
    "\treturn f\"\"\"El reporte es el siguiente:\n",
    "\n",
    "\tCombustible promedio: {prom}%\n",
    "\tPrimer tanque: {tanq1}%\n",
    "\tSegundo tanque: {tanq2}%\n",
    "\tTercer tanque: {tanq3}%\"\"\"\n",
    "\n",
    "print (reporte(25, 63, 81))\n"
   ]
  },
  {
   "cell_type": "code",
   "execution_count": 10,
   "metadata": {},
   "outputs": [
    {
     "name": "stdout",
     "output_type": "stream",
     "text": [
      "El reporte es el siguiente:\n",
      "\n",
      "\tCombustible promedio: 54%\n",
      "\tPrimer tanque: 64%\n",
      "\tSegundo tanque: 81%\n",
      "\tTercer tanque: 16%\n"
     ]
    }
   ],
   "source": [
    "#Ejercicio 1.2\n",
    "def avr(values):\n",
    "\ttotal = sum(values)\n",
    "\tnumber_items=len(values)\n",
    "\treturn round (total / number_items)\n",
    "\n",
    "#print (avr ([16, 58, 73]))\n",
    "\n",
    "def reporte(tanq1, tanq2, tanq3):\n",
    "    \n",
    "\treturn f\"\"\"El reporte es el siguiente:\n",
    "\n",
    "\tCombustible promedio: {avr([tanq1, tanq2, tanq3])}%\n",
    "\tPrimer tanque: {tanq1}%\n",
    "\tSegundo tanque: {tanq2}%\n",
    "\tTercer tanque: {tanq3}%\"\"\"\n",
    "\n",
    "print (reporte(64, 81, 16))"
   ]
  },
  {
   "cell_type": "code",
   "execution_count": 11,
   "metadata": {},
   "outputs": [
    {
     "name": "stdout",
     "output_type": "stream",
     "text": [
      "\n",
      "\tMision a: Marte\n",
      "\tTiempo total de viaje: 145 minutos\n",
      "\tCombustibles restante: 267843 galones\n"
     ]
    }
   ],
   "source": [
    "\n",
    "#Ejercicio 2.1\n",
    "\n",
    "def reporte_mision(pre_lnz, tim_vuel, destino, tanq1, tanq2):\n",
    "\treturn f\"\"\"\n",
    "\tMision a: {destino}\n",
    "\tTiempo total de viaje: {pre_lnz + tim_vuel} minutos\n",
    "\tCombustibles restante: {tanq1 + tanq2} galones\"\"\"\n",
    "\n",
    "print( reporte_mision (64, 81, \"Marte\", 216522, 51321))"
   ]
  },
  {
   "cell_type": "code",
   "execution_count": 12,
   "metadata": {},
   "outputs": [
    {
     "name": "stdout",
     "output_type": "stream",
     "text": [
      "\n",
      "\tMision a: Marte\n",
      "\tTiempo total de viaje: 75 minutos\n",
      "\tCombustibles restante: 320000\n"
     ]
    }
   ],
   "source": [
    "\n",
    "#Ejercicio 2.2\n",
    "\n",
    "def reporte_mision(destino, *minutos, ** reserv_comb):\n",
    "\treturn f\"\"\"\n",
    "\tMision a: {destino}\n",
    "\tTiempo total de viaje: {sum(minutos)} minutos\n",
    "\tCombustibles restante: {sum(reserv_comb.values())}\"\"\"\n",
    "\n",
    "print( reporte_mision (\"Marte\", 16, 46, 13, main=300000, external=20000))"
   ]
  },
  {
   "cell_type": "code",
   "execution_count": 20,
   "metadata": {},
   "outputs": [
    {
     "name": "stdout",
     "output_type": "stream",
     "text": [
      "\n",
      "\tMision a: Marte\n",
      "\tTiempo total de viaje: 75 minutos\n",
      "\tCombustibles restante: 320000\n",
      "\ttanque1 300000 galones restantes \n",
      "tanque2 20000 galones restantes \n",
      "\n"
     ]
    }
   ],
   "source": [
    "\n",
    "#Ejercicio 2.3\n",
    "\n",
    "def reporte_mision(destino, *minutos, ** reserv_comb):\n",
    "\tprin_rep = f\"\"\"\n",
    "\tMision a: {destino}\n",
    "\tTiempo total de viaje: {sum(minutos)} minutos\n",
    "\tCombustibles restante: {sum(reserv_comb.values())}\n",
    "\t\"\"\"\n",
    "\tfor tanq, galones in reserv_comb.items():\n",
    "\t\tprin_rep += f\"{tanq} {galones} galones restantes \\n\"\"\"\n",
    "\t\n",
    "\treturn prin_rep\n",
    "\n",
    "print( reporte_mision (\"Marte\", 16, 46, 13, tanque1=300000, tanque2=20000))"
   ]
  }
 ],
 "metadata": {
  "interpreter": {
   "hash": "021d2af90a5acc62643c1b61bdeb7c2e275a26968c16e4f87e6bfe650b628050"
  },
  "kernelspec": {
   "display_name": "Python 3.9.2 ('env': venv)",
   "language": "python",
   "name": "python3"
  },
  "language_info": {
   "codemirror_mode": {
    "name": "ipython",
    "version": 3
   },
   "file_extension": ".py",
   "mimetype": "text/x-python",
   "name": "python",
   "nbconvert_exporter": "python",
   "pygments_lexer": "ipython3",
   "version": "3.9.2"
  },
  "orig_nbformat": 4
 },
 "nbformat": 4,
 "nbformat_minor": 2
}
