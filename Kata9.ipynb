{
 "cells": [
  {
   "cell_type": "code",
   "execution_count": 8,
   "metadata": {},
   "outputs": [
    {
     "ename": "NameError",
     "evalue": "name 'Hola' is not defined",
     "output_type": "error",
     "traceback": [
      "\u001b[1;31m---------------------------------------------------------------------------\u001b[0m",
      "\u001b[1;31mNameError\u001b[0m                                 Traceback (most recent call last)",
      "\u001b[1;32mc:\\Users\\Hp\\OneDrive - Instituto Politecnico Nacional\\Desktop\\CursoIntroPython-main\\CursoIntroPython-main\\Katas 하비\\Kata9.ipynb Cell 1'\u001b[0m in \u001b[0;36m<module>\u001b[1;34m\u001b[0m\n\u001b[0;32m      <a href='vscode-notebook-cell:/c%3A/Users/Hp/OneDrive%20-%20Instituto%20Politecnico%20Nacional/Desktop/CursoIntroPython-main/CursoIntroPython-main/Katas%20%ED%95%98%EB%B9%84/Kata9.ipynb#ch0000003?line=2'>3</a>\u001b[0m \u001b[39mdef\u001b[39;00m \u001b[39mlec_Com\u001b[39m (tanq1, tanq2, tanq3):\n\u001b[0;32m      <a href='vscode-notebook-cell:/c%3A/Users/Hp/OneDrive%20-%20Instituto%20Politecnico%20Nacional/Desktop/CursoIntroPython-main/CursoIntroPython-main/Katas%20%ED%95%98%EB%B9%84/Kata9.ipynb#ch0000003?line=3'>4</a>\u001b[0m     \u001b[39mreturn\u001b[39;00m lec_Com\n\u001b[1;32m----> <a href='vscode-notebook-cell:/c%3A/Users/Hp/OneDrive%20-%20Instituto%20Politecnico%20Nacional/Desktop/CursoIntroPython-main/CursoIntroPython-main/Katas%20%ED%95%98%EB%B9%84/Kata9.ipynb#ch0000003?line=5'>6</a>\u001b[0m \u001b[39mprint\u001b[39m (lec_Com(Hola, \u001b[39m4\u001b[39m, Javi))\n",
      "\u001b[1;31mNameError\u001b[0m: name 'Hola' is not defined"
     ]
    }
   ],
   "source": [
    "#Ejercicio 1\n",
    "\n",
    "def lec_Com (tanq1, tanq2, tanq3):\n",
    "    return lec_Com\n",
    "\n",
    "print (Hola, 4, Javi)\n",
    "\n",
    "\n"
   ]
  }
 ],
 "metadata": {
  "interpreter": {
   "hash": "021d2af90a5acc62643c1b61bdeb7c2e275a26968c16e4f87e6bfe650b628050"
  },
  "kernelspec": {
   "display_name": "Python 3.9.2 ('env': venv)",
   "language": "python",
   "name": "python3"
  },
  "language_info": {
   "codemirror_mode": {
    "name": "ipython",
    "version": 3
   },
   "file_extension": ".py",
   "mimetype": "text/x-python",
   "name": "python",
   "nbconvert_exporter": "python",
   "pygments_lexer": "ipython3",
   "version": "3.9.2"
  },
  "orig_nbformat": 4
 },
 "nbformat": 4,
 "nbformat_minor": 2
}
