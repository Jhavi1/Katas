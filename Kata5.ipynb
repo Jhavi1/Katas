{
 "cells": [
  {
   "cell_type": "code",
   "execution_count": 7,
   "metadata": {},
   "outputs": [
    {
     "name": "stdout",
     "output_type": "stream",
     "text": [
      "628949330.0\n",
      "390577533.93\n",
      "390577534\n"
     ]
    }
   ],
   "source": [
    " #Ejercicio 1\n",
    "\n",
    " dis_Tie = float (149597870)\n",
    " dis_Jup = float (778547200)\n",
    "\n",
    " dis_Pla = dis_Tie - dis_Jup\n",
    "\n",
    " print (abs(dis_Pla))\n",
    " print (abs(dis_Pla * 0.621))\n",
    " print (round(abs(dis_Pla * 0.621)))"
   ]
  },
  {
   "cell_type": "code",
   "execution_count": 11,
   "metadata": {},
   "outputs": [
    {
     "name": "stdout",
     "output_type": "stream",
     "text": [
      "1780990\n",
      "1105994.79\n",
      "1105995\n"
     ]
    }
   ],
   "source": [
    "#Ejercicio 2\n",
    "\n",
    "dis_Pla1 = input ('Por favor, escribe la distancia del primer planeta con relacion al sol:  ')\n",
    "dis_Pla2 = input ('Por favor, escribe la distancia del segundo planeta con relacion al sol:  ')\n",
    "\n",
    "dis_Pla1 = int(dis_Pla1)\n",
    "dis_Pla2 = int(dis_Pla2)\n",
    "\n",
    "dis_Pla = dis_Pla1 - dis_Pla2\n",
    "\n",
    "print (abs(dis_Pla))\n",
    "print (abs(dis_Pla * 0.621))\n",
    "print (round(abs(dis_Pla * 0.621)))"
   ]
  }
 ],
 "metadata": {
  "interpreter": {
   "hash": "021d2af90a5acc62643c1b61bdeb7c2e275a26968c16e4f87e6bfe650b628050"
  },
  "kernelspec": {
   "display_name": "Python 3.9.2 ('env': venv)",
   "language": "python",
   "name": "python3"
  },
  "language_info": {
   "codemirror_mode": {
    "name": "ipython",
    "version": 3
   },
   "file_extension": ".py",
   "mimetype": "text/x-python",
   "name": "python",
   "nbconvert_exporter": "python",
   "pygments_lexer": "ipython3",
   "version": "3.9.2"
  },
  "orig_nbformat": 4
 },
 "nbformat": 4,
 "nbformat_minor": 2
}
